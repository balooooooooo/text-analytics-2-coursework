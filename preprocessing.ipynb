{
 "cells": [
  {
   "cell_type": "code",
   "execution_count": 12,
   "id": "initial_id",
   "metadata": {
    "collapsed": true,
    "ExecuteTime": {
     "end_time": "2023-12-29T18:21:03.415320Z",
     "start_time": "2023-12-29T18:21:03.400798Z"
    }
   },
   "outputs": [],
   "source": [
    "import pandas as pd\n",
    "import json \n",
    "from IPython.display import display"
   ]
  },
  {
   "cell_type": "code",
   "execution_count": 8,
   "outputs": [],
   "source": [
    "reviews = []\n",
    "with open('data/yelp_academic_dataset_review.json', 'r', encoding=\"utf-8\") as file:\n",
    "    for line in file:\n",
    "        reviews.append(json.loads(line))"
   ],
   "metadata": {
    "collapsed": false,
    "ExecuteTime": {
     "end_time": "2023-12-29T18:16:57.832668100Z",
     "start_time": "2023-12-29T18:16:26.723931200Z"
    }
   },
   "id": "adae98ed9a944e81"
  },
  {
   "cell_type": "code",
   "execution_count": 6,
   "outputs": [],
   "source": [
    "business = []\n",
    "with open('data/yelp_academic_dataset_business.json', 'r', encoding=\"utf-8\") as file:\n",
    "    for line in file:\n",
    "        business.append(json.loads(line))"
   ],
   "metadata": {
    "collapsed": false,
    "ExecuteTime": {
     "end_time": "2023-12-29T18:16:05.731313500Z",
     "start_time": "2023-12-29T18:16:04.152736500Z"
    }
   },
   "id": "209e4f75309df81"
  },
  {
   "cell_type": "code",
   "execution_count": 11,
   "outputs": [],
   "source": [
    "df_reviews = pd.DataFrame.from_dict(reviews)\n",
    "df_business = pd.DataFrame.from_dict(business)"
   ],
   "metadata": {
    "collapsed": false,
    "ExecuteTime": {
     "end_time": "2023-12-29T18:21:03.399797400Z",
     "start_time": "2023-12-29T18:20:53.744170100Z"
    }
   },
   "id": "ebeb40be674b6968"
  },
  {
   "cell_type": "code",
   "execution_count": 10,
   "outputs": [
    {
     "data": {
      "text/plain": "                review_id                 user_id             business_id  \\\n0  KU_O5udG6zpxOg-VcAEodg  mh_-eMZ6K5RLWhZyISBhwA  XQfwVwDr-v0ZS3_CbbE5Xw   \n1  BiTunyQ73aT9WBnpR9DZGw  OyoGAe7OKpv6SyGZT5g77Q  7ATYjTIgM3jUlt4UM3IypQ   \n2  saUsX_uimxRlCVr67Z4Jig  8g_iMtfSiwikVnbP2etR0A  YjUWPpI6HXG530lwP-fb2A   \n3  AqPFMleE6RsU23_auESxiA  _7bHUi9Uuf5__HHc_Q8guQ  kxX2SOes4o-D3ZQBkiMRfA   \n4  Sx8TMOWLNuJBWer-0pcmoA  bcjbaE6dDog4jkNY91ncLQ  e4Vwtrqf-wpJfwesgvdgxQ   \n\n   stars  useful  funny  cool  \\\n0    3.0       0      0     0   \n1    5.0       1      0     1   \n2    3.0       0      0     0   \n3    5.0       1      0     1   \n4    4.0       1      0     1   \n\n                                                text                 date  \n0  If you decide to eat here, just be aware it is...  2018-07-07 22:09:11  \n1  I've taken a lot of spin classes over the year...  2012-01-03 15:28:18  \n2  Family diner. Had the buffet. Eclectic assortm...  2014-02-05 20:30:30  \n3  Wow!  Yummy, different,  delicious.   Our favo...  2015-01-04 00:01:03  \n4  Cute interior and owner (?) gave us tour of up...  2017-01-14 20:54:15  ",
      "text/html": "<div>\n<style scoped>\n    .dataframe tbody tr th:only-of-type {\n        vertical-align: middle;\n    }\n\n    .dataframe tbody tr th {\n        vertical-align: top;\n    }\n\n    .dataframe thead th {\n        text-align: right;\n    }\n</style>\n<table border=\"1\" class=\"dataframe\">\n  <thead>\n    <tr style=\"text-align: right;\">\n      <th></th>\n      <th>review_id</th>\n      <th>user_id</th>\n      <th>business_id</th>\n      <th>stars</th>\n      <th>useful</th>\n      <th>funny</th>\n      <th>cool</th>\n      <th>text</th>\n      <th>date</th>\n    </tr>\n  </thead>\n  <tbody>\n    <tr>\n      <th>0</th>\n      <td>KU_O5udG6zpxOg-VcAEodg</td>\n      <td>mh_-eMZ6K5RLWhZyISBhwA</td>\n      <td>XQfwVwDr-v0ZS3_CbbE5Xw</td>\n      <td>3.0</td>\n      <td>0</td>\n      <td>0</td>\n      <td>0</td>\n      <td>If you decide to eat here, just be aware it is...</td>\n      <td>2018-07-07 22:09:11</td>\n    </tr>\n    <tr>\n      <th>1</th>\n      <td>BiTunyQ73aT9WBnpR9DZGw</td>\n      <td>OyoGAe7OKpv6SyGZT5g77Q</td>\n      <td>7ATYjTIgM3jUlt4UM3IypQ</td>\n      <td>5.0</td>\n      <td>1</td>\n      <td>0</td>\n      <td>1</td>\n      <td>I've taken a lot of spin classes over the year...</td>\n      <td>2012-01-03 15:28:18</td>\n    </tr>\n    <tr>\n      <th>2</th>\n      <td>saUsX_uimxRlCVr67Z4Jig</td>\n      <td>8g_iMtfSiwikVnbP2etR0A</td>\n      <td>YjUWPpI6HXG530lwP-fb2A</td>\n      <td>3.0</td>\n      <td>0</td>\n      <td>0</td>\n      <td>0</td>\n      <td>Family diner. Had the buffet. Eclectic assortm...</td>\n      <td>2014-02-05 20:30:30</td>\n    </tr>\n    <tr>\n      <th>3</th>\n      <td>AqPFMleE6RsU23_auESxiA</td>\n      <td>_7bHUi9Uuf5__HHc_Q8guQ</td>\n      <td>kxX2SOes4o-D3ZQBkiMRfA</td>\n      <td>5.0</td>\n      <td>1</td>\n      <td>0</td>\n      <td>1</td>\n      <td>Wow!  Yummy, different,  delicious.   Our favo...</td>\n      <td>2015-01-04 00:01:03</td>\n    </tr>\n    <tr>\n      <th>4</th>\n      <td>Sx8TMOWLNuJBWer-0pcmoA</td>\n      <td>bcjbaE6dDog4jkNY91ncLQ</td>\n      <td>e4Vwtrqf-wpJfwesgvdgxQ</td>\n      <td>4.0</td>\n      <td>1</td>\n      <td>0</td>\n      <td>1</td>\n      <td>Cute interior and owner (?) gave us tour of up...</td>\n      <td>2017-01-14 20:54:15</td>\n    </tr>\n  </tbody>\n</table>\n</div>"
     },
     "execution_count": 10,
     "metadata": {},
     "output_type": "execute_result"
    }
   ],
   "source": [
    "df_reviews.head()"
   ],
   "metadata": {
    "collapsed": false,
    "ExecuteTime": {
     "end_time": "2023-12-29T18:20:33.878694900Z",
     "start_time": "2023-12-29T18:20:33.832913200Z"
    }
   },
   "id": "8503b8fd8d3f0409"
  },
  {
   "cell_type": "code",
   "execution_count": 13,
   "outputs": [
    {
     "data": {
      "text/plain": "              business_id                      name  \\\n0  Pns2l4eNsfO8kk83dixA6A  Abby Rappoport, LAC, CMQ   \n1  mpf3x-BjTdTEA3yCZrAYPw             The UPS Store   \n2  tUFrWirKiKi_TAnsVWINQQ                    Target   \n3  MTSW4McQd7CbVtyjqoe9mw        St Honore Pastries   \n4  mWMc6_wTdE0EUBKIGXDVfA  Perkiomen Valley Brewery   \n\n                           address           city state postal_code  \\\n0           1616 Chapala St, Ste 2  Santa Barbara    CA       93101   \n1  87 Grasso Plaza Shopping Center         Affton    MO       63123   \n2             5255 E Broadway Blvd         Tucson    AZ       85711   \n3                      935 Race St   Philadelphia    PA       19107   \n4                    101 Walnut St     Green Lane    PA       18054   \n\n    latitude   longitude  stars  review_count  is_open  \\\n0  34.426679 -119.711197    5.0             7        0   \n1  38.551126  -90.335695    3.0            15        1   \n2  32.223236 -110.880452    3.5            22        0   \n3  39.955505  -75.155564    4.0            80        1   \n4  40.338183  -75.471659    4.5            13        1   \n\n                                          attributes  \\\n0                      {'ByAppointmentOnly': 'True'}   \n1             {'BusinessAcceptsCreditCards': 'True'}   \n2  {'BikeParking': 'True', 'BusinessAcceptsCredit...   \n3  {'RestaurantsDelivery': 'False', 'OutdoorSeati...   \n4  {'BusinessAcceptsCreditCards': 'True', 'Wheelc...   \n\n                                          categories  \\\n0  Doctors, Traditional Chinese Medicine, Naturop...   \n1  Shipping Centers, Local Services, Notaries, Ma...   \n2  Department Stores, Shopping, Fashion, Home & G...   \n3  Restaurants, Food, Bubble Tea, Coffee & Tea, B...   \n4                          Brewpubs, Breweries, Food   \n\n                                               hours  \n0                                               None  \n1  {'Monday': '0:0-0:0', 'Tuesday': '8:0-18:30', ...  \n2  {'Monday': '8:0-22:0', 'Tuesday': '8:0-22:0', ...  \n3  {'Monday': '7:0-20:0', 'Tuesday': '7:0-20:0', ...  \n4  {'Wednesday': '14:0-22:0', 'Thursday': '16:0-2...  ",
      "text/html": "<div>\n<style scoped>\n    .dataframe tbody tr th:only-of-type {\n        vertical-align: middle;\n    }\n\n    .dataframe tbody tr th {\n        vertical-align: top;\n    }\n\n    .dataframe thead th {\n        text-align: right;\n    }\n</style>\n<table border=\"1\" class=\"dataframe\">\n  <thead>\n    <tr style=\"text-align: right;\">\n      <th></th>\n      <th>business_id</th>\n      <th>name</th>\n      <th>address</th>\n      <th>city</th>\n      <th>state</th>\n      <th>postal_code</th>\n      <th>latitude</th>\n      <th>longitude</th>\n      <th>stars</th>\n      <th>review_count</th>\n      <th>is_open</th>\n      <th>attributes</th>\n      <th>categories</th>\n      <th>hours</th>\n    </tr>\n  </thead>\n  <tbody>\n    <tr>\n      <th>0</th>\n      <td>Pns2l4eNsfO8kk83dixA6A</td>\n      <td>Abby Rappoport, LAC, CMQ</td>\n      <td>1616 Chapala St, Ste 2</td>\n      <td>Santa Barbara</td>\n      <td>CA</td>\n      <td>93101</td>\n      <td>34.426679</td>\n      <td>-119.711197</td>\n      <td>5.0</td>\n      <td>7</td>\n      <td>0</td>\n      <td>{'ByAppointmentOnly': 'True'}</td>\n      <td>Doctors, Traditional Chinese Medicine, Naturop...</td>\n      <td>None</td>\n    </tr>\n    <tr>\n      <th>1</th>\n      <td>mpf3x-BjTdTEA3yCZrAYPw</td>\n      <td>The UPS Store</td>\n      <td>87 Grasso Plaza Shopping Center</td>\n      <td>Affton</td>\n      <td>MO</td>\n      <td>63123</td>\n      <td>38.551126</td>\n      <td>-90.335695</td>\n      <td>3.0</td>\n      <td>15</td>\n      <td>1</td>\n      <td>{'BusinessAcceptsCreditCards': 'True'}</td>\n      <td>Shipping Centers, Local Services, Notaries, Ma...</td>\n      <td>{'Monday': '0:0-0:0', 'Tuesday': '8:0-18:30', ...</td>\n    </tr>\n    <tr>\n      <th>2</th>\n      <td>tUFrWirKiKi_TAnsVWINQQ</td>\n      <td>Target</td>\n      <td>5255 E Broadway Blvd</td>\n      <td>Tucson</td>\n      <td>AZ</td>\n      <td>85711</td>\n      <td>32.223236</td>\n      <td>-110.880452</td>\n      <td>3.5</td>\n      <td>22</td>\n      <td>0</td>\n      <td>{'BikeParking': 'True', 'BusinessAcceptsCredit...</td>\n      <td>Department Stores, Shopping, Fashion, Home &amp; G...</td>\n      <td>{'Monday': '8:0-22:0', 'Tuesday': '8:0-22:0', ...</td>\n    </tr>\n    <tr>\n      <th>3</th>\n      <td>MTSW4McQd7CbVtyjqoe9mw</td>\n      <td>St Honore Pastries</td>\n      <td>935 Race St</td>\n      <td>Philadelphia</td>\n      <td>PA</td>\n      <td>19107</td>\n      <td>39.955505</td>\n      <td>-75.155564</td>\n      <td>4.0</td>\n      <td>80</td>\n      <td>1</td>\n      <td>{'RestaurantsDelivery': 'False', 'OutdoorSeati...</td>\n      <td>Restaurants, Food, Bubble Tea, Coffee &amp; Tea, B...</td>\n      <td>{'Monday': '7:0-20:0', 'Tuesday': '7:0-20:0', ...</td>\n    </tr>\n    <tr>\n      <th>4</th>\n      <td>mWMc6_wTdE0EUBKIGXDVfA</td>\n      <td>Perkiomen Valley Brewery</td>\n      <td>101 Walnut St</td>\n      <td>Green Lane</td>\n      <td>PA</td>\n      <td>18054</td>\n      <td>40.338183</td>\n      <td>-75.471659</td>\n      <td>4.5</td>\n      <td>13</td>\n      <td>1</td>\n      <td>{'BusinessAcceptsCreditCards': 'True', 'Wheelc...</td>\n      <td>Brewpubs, Breweries, Food</td>\n      <td>{'Wednesday': '14:0-22:0', 'Thursday': '16:0-2...</td>\n    </tr>\n  </tbody>\n</table>\n</div>"
     },
     "execution_count": 13,
     "metadata": {},
     "output_type": "execute_result"
    }
   ],
   "source": [
    "df_business.head()"
   ],
   "metadata": {
    "collapsed": false,
    "ExecuteTime": {
     "end_time": "2023-12-29T18:21:38.596363600Z",
     "start_time": "2023-12-29T18:21:38.578392400Z"
    }
   },
   "id": "6639115b89d10eff"
  },
  {
   "cell_type": "code",
   "execution_count": 15,
   "outputs": [],
   "source": [
    "df = pd.merge(df_reviews, df_business, on='business_id')"
   ],
   "metadata": {
    "collapsed": false,
    "ExecuteTime": {
     "end_time": "2023-12-29T18:25:14.798846400Z",
     "start_time": "2023-12-29T18:25:10.185366300Z"
    }
   },
   "id": "73f3914b1173a4fc"
  },
  {
   "cell_type": "code",
   "execution_count": 16,
   "outputs": [
    {
     "data": {
      "text/plain": "                review_id                 user_id             business_id  \\\n0  KU_O5udG6zpxOg-VcAEodg  mh_-eMZ6K5RLWhZyISBhwA  XQfwVwDr-v0ZS3_CbbE5Xw   \n1  VJxlBnJmCDIy8DFG0kjSow  Iaee7y6zdSB3B-kRCo4z1w  XQfwVwDr-v0ZS3_CbbE5Xw   \n2  S6pQZQocMB1WHMjTRbt77A  ejFxLGqQcWNLdNByJlIhnQ  XQfwVwDr-v0ZS3_CbbE5Xw   \n3  WqgTKVqWVHDHjnjEsBvUgg  f7xa0p_1V9lx53iIGN5Sug  XQfwVwDr-v0ZS3_CbbE5Xw   \n4  M0wzFFb7pefOPcxeRVbLag  dCooFVCk8M1nVaQqcfTL3Q  XQfwVwDr-v0ZS3_CbbE5Xw   \n\n   stars_x  useful  funny  cool  \\\n0      3.0       0      0     0   \n1      2.0       0      0     0   \n2      4.0       2      0     1   \n3      3.0       0      0     0   \n4      2.0       0      0     0   \n\n                                                text                 date  \\\n0  If you decide to eat here, just be aware it is...  2018-07-07 22:09:11   \n1  This is the second time we tried turning point...  2017-05-13 17:06:55   \n2  The place is cute and the staff was very frien...  2017-08-08 00:58:18   \n3  We came on a Saturday morning after waiting a ...  2017-11-19 02:20:23   \n4  Mediocre at best. The decor is very nice, and ...  2017-09-09 17:49:47   \n\n                           name  ... state postal_code   latitude  longitude  \\\n0  Turning Point of North Wales  ...    PA       19454  40.210196 -75.223639   \n1  Turning Point of North Wales  ...    PA       19454  40.210196 -75.223639   \n2  Turning Point of North Wales  ...    PA       19454  40.210196 -75.223639   \n3  Turning Point of North Wales  ...    PA       19454  40.210196 -75.223639   \n4  Turning Point of North Wales  ...    PA       19454  40.210196 -75.223639   \n\n   stars_y  review_count  is_open  \\\n0      3.0           169        1   \n1      3.0           169        1   \n2      3.0           169        1   \n3      3.0           169        1   \n4      3.0           169        1   \n\n                                          attributes  \\\n0  {'NoiseLevel': 'u'average'', 'HasTV': 'False',...   \n1  {'NoiseLevel': 'u'average'', 'HasTV': 'False',...   \n2  {'NoiseLevel': 'u'average'', 'HasTV': 'False',...   \n3  {'NoiseLevel': 'u'average'', 'HasTV': 'False',...   \n4  {'NoiseLevel': 'u'average'', 'HasTV': 'False',...   \n\n                                          categories  \\\n0  Restaurants, Breakfast & Brunch, Food, Juice B...   \n1  Restaurants, Breakfast & Brunch, Food, Juice B...   \n2  Restaurants, Breakfast & Brunch, Food, Juice B...   \n3  Restaurants, Breakfast & Brunch, Food, Juice B...   \n4  Restaurants, Breakfast & Brunch, Food, Juice B...   \n\n                                               hours  \n0  {'Monday': '7:30-15:0', 'Tuesday': '7:30-15:0'...  \n1  {'Monday': '7:30-15:0', 'Tuesday': '7:30-15:0'...  \n2  {'Monday': '7:30-15:0', 'Tuesday': '7:30-15:0'...  \n3  {'Monday': '7:30-15:0', 'Tuesday': '7:30-15:0'...  \n4  {'Monday': '7:30-15:0', 'Tuesday': '7:30-15:0'...  \n\n[5 rows x 22 columns]",
      "text/html": "<div>\n<style scoped>\n    .dataframe tbody tr th:only-of-type {\n        vertical-align: middle;\n    }\n\n    .dataframe tbody tr th {\n        vertical-align: top;\n    }\n\n    .dataframe thead th {\n        text-align: right;\n    }\n</style>\n<table border=\"1\" class=\"dataframe\">\n  <thead>\n    <tr style=\"text-align: right;\">\n      <th></th>\n      <th>review_id</th>\n      <th>user_id</th>\n      <th>business_id</th>\n      <th>stars_x</th>\n      <th>useful</th>\n      <th>funny</th>\n      <th>cool</th>\n      <th>text</th>\n      <th>date</th>\n      <th>name</th>\n      <th>...</th>\n      <th>state</th>\n      <th>postal_code</th>\n      <th>latitude</th>\n      <th>longitude</th>\n      <th>stars_y</th>\n      <th>review_count</th>\n      <th>is_open</th>\n      <th>attributes</th>\n      <th>categories</th>\n      <th>hours</th>\n    </tr>\n  </thead>\n  <tbody>\n    <tr>\n      <th>0</th>\n      <td>KU_O5udG6zpxOg-VcAEodg</td>\n      <td>mh_-eMZ6K5RLWhZyISBhwA</td>\n      <td>XQfwVwDr-v0ZS3_CbbE5Xw</td>\n      <td>3.0</td>\n      <td>0</td>\n      <td>0</td>\n      <td>0</td>\n      <td>If you decide to eat here, just be aware it is...</td>\n      <td>2018-07-07 22:09:11</td>\n      <td>Turning Point of North Wales</td>\n      <td>...</td>\n      <td>PA</td>\n      <td>19454</td>\n      <td>40.210196</td>\n      <td>-75.223639</td>\n      <td>3.0</td>\n      <td>169</td>\n      <td>1</td>\n      <td>{'NoiseLevel': 'u'average'', 'HasTV': 'False',...</td>\n      <td>Restaurants, Breakfast &amp; Brunch, Food, Juice B...</td>\n      <td>{'Monday': '7:30-15:0', 'Tuesday': '7:30-15:0'...</td>\n    </tr>\n    <tr>\n      <th>1</th>\n      <td>VJxlBnJmCDIy8DFG0kjSow</td>\n      <td>Iaee7y6zdSB3B-kRCo4z1w</td>\n      <td>XQfwVwDr-v0ZS3_CbbE5Xw</td>\n      <td>2.0</td>\n      <td>0</td>\n      <td>0</td>\n      <td>0</td>\n      <td>This is the second time we tried turning point...</td>\n      <td>2017-05-13 17:06:55</td>\n      <td>Turning Point of North Wales</td>\n      <td>...</td>\n      <td>PA</td>\n      <td>19454</td>\n      <td>40.210196</td>\n      <td>-75.223639</td>\n      <td>3.0</td>\n      <td>169</td>\n      <td>1</td>\n      <td>{'NoiseLevel': 'u'average'', 'HasTV': 'False',...</td>\n      <td>Restaurants, Breakfast &amp; Brunch, Food, Juice B...</td>\n      <td>{'Monday': '7:30-15:0', 'Tuesday': '7:30-15:0'...</td>\n    </tr>\n    <tr>\n      <th>2</th>\n      <td>S6pQZQocMB1WHMjTRbt77A</td>\n      <td>ejFxLGqQcWNLdNByJlIhnQ</td>\n      <td>XQfwVwDr-v0ZS3_CbbE5Xw</td>\n      <td>4.0</td>\n      <td>2</td>\n      <td>0</td>\n      <td>1</td>\n      <td>The place is cute and the staff was very frien...</td>\n      <td>2017-08-08 00:58:18</td>\n      <td>Turning Point of North Wales</td>\n      <td>...</td>\n      <td>PA</td>\n      <td>19454</td>\n      <td>40.210196</td>\n      <td>-75.223639</td>\n      <td>3.0</td>\n      <td>169</td>\n      <td>1</td>\n      <td>{'NoiseLevel': 'u'average'', 'HasTV': 'False',...</td>\n      <td>Restaurants, Breakfast &amp; Brunch, Food, Juice B...</td>\n      <td>{'Monday': '7:30-15:0', 'Tuesday': '7:30-15:0'...</td>\n    </tr>\n    <tr>\n      <th>3</th>\n      <td>WqgTKVqWVHDHjnjEsBvUgg</td>\n      <td>f7xa0p_1V9lx53iIGN5Sug</td>\n      <td>XQfwVwDr-v0ZS3_CbbE5Xw</td>\n      <td>3.0</td>\n      <td>0</td>\n      <td>0</td>\n      <td>0</td>\n      <td>We came on a Saturday morning after waiting a ...</td>\n      <td>2017-11-19 02:20:23</td>\n      <td>Turning Point of North Wales</td>\n      <td>...</td>\n      <td>PA</td>\n      <td>19454</td>\n      <td>40.210196</td>\n      <td>-75.223639</td>\n      <td>3.0</td>\n      <td>169</td>\n      <td>1</td>\n      <td>{'NoiseLevel': 'u'average'', 'HasTV': 'False',...</td>\n      <td>Restaurants, Breakfast &amp; Brunch, Food, Juice B...</td>\n      <td>{'Monday': '7:30-15:0', 'Tuesday': '7:30-15:0'...</td>\n    </tr>\n    <tr>\n      <th>4</th>\n      <td>M0wzFFb7pefOPcxeRVbLag</td>\n      <td>dCooFVCk8M1nVaQqcfTL3Q</td>\n      <td>XQfwVwDr-v0ZS3_CbbE5Xw</td>\n      <td>2.0</td>\n      <td>0</td>\n      <td>0</td>\n      <td>0</td>\n      <td>Mediocre at best. The decor is very nice, and ...</td>\n      <td>2017-09-09 17:49:47</td>\n      <td>Turning Point of North Wales</td>\n      <td>...</td>\n      <td>PA</td>\n      <td>19454</td>\n      <td>40.210196</td>\n      <td>-75.223639</td>\n      <td>3.0</td>\n      <td>169</td>\n      <td>1</td>\n      <td>{'NoiseLevel': 'u'average'', 'HasTV': 'False',...</td>\n      <td>Restaurants, Breakfast &amp; Brunch, Food, Juice B...</td>\n      <td>{'Monday': '7:30-15:0', 'Tuesday': '7:30-15:0'...</td>\n    </tr>\n  </tbody>\n</table>\n<p>5 rows × 22 columns</p>\n</div>"
     },
     "execution_count": 16,
     "metadata": {},
     "output_type": "execute_result"
    }
   ],
   "source": [
    "df.head()"
   ],
   "metadata": {
    "collapsed": false,
    "ExecuteTime": {
     "end_time": "2023-12-29T18:25:24.622600300Z",
     "start_time": "2023-12-29T18:25:24.598561400Z"
    }
   },
   "id": "d495c35c962d0070"
  }
 ],
 "metadata": {
  "kernelspec": {
   "display_name": "Python 3",
   "language": "python",
   "name": "python3"
  },
  "language_info": {
   "codemirror_mode": {
    "name": "ipython",
    "version": 2
   },
   "file_extension": ".py",
   "mimetype": "text/x-python",
   "name": "python",
   "nbconvert_exporter": "python",
   "pygments_lexer": "ipython2",
   "version": "2.7.6"
  }
 },
 "nbformat": 4,
 "nbformat_minor": 5
}
